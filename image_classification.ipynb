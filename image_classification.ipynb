{
 "cells": [
  {
   "cell_type": "markdown",
   "metadata": {},
   "source": [
    "# Image classification using PyTorch\n",
    "* Create a virtual environment and install PyTorch in it\n",
    "* Write command in terminal as:\n",
    "--> python -m venv {name of venv}\n",
    "\n",
    "* to activate\n",
    "--> \\{name of venv}\\Scripts\\activate\n",
    "\n",
    "* inspall pytorch:\n",
    "--> pip install torch\n",
    "\n",
    "* install ipynb kernel\n",
    "--> pip install ipykernel\n",
    "\n",
    "* setup ipykernel for using jupyter notebook\n",
    "--> pyhton -m ipykernel install --user --name {give any name to your kernel}\n",
    "\n",
    "* to deactivate\n",
    "--> deactivate"
   ]
  },
  {
   "cell_type": "markdown",
   "metadata": {},
   "source": []
  },
  {
   "cell_type": "code",
   "execution_count": 1,
   "metadata": {},
   "outputs": [],
   "source": [
    "import torch\n",
    "import torch.nn as nn\n",
    "import torch.optim as optim\n",
    "from torchvision import datasets, transforms, models\n",
    "import os"
   ]
  },
  {
   "cell_type": "code",
   "execution_count": 2,
   "metadata": {},
   "outputs": [],
   "source": [
    "# Define data transformations for data augmentation and normalization\n",
    "data_transforms = {\n",
    "    'train': transforms.Compose([\n",
    "        transforms.RandomResizedCrop(224), # it means we want to randomly resize and images to this size i.e. 224x224\n",
    "        transforms.RandomHorizontalFlip(), # horizontally flip the image\n",
    "        transforms.ToTensor(), # Transforming images to Tensor, because pytorch accepts the data inthe form of tensor,,, its a mandatory step\n",
    "        transforms.Normalize(mean=[0.485, 0.456, 0.406],std=[0.229, 0.224, 0.225]) # colored images : r-g-b channels, Normalizing the data so that entire input is on the same scale\n",
    "    ]),\n",
    "    'val': transforms.Compose([\n",
    "        transforms.Resize(256), # resizing the image\n",
    "        transforms.CenterCrop(224),\n",
    "        transforms.ToTensor(),\n",
    "        transforms.Normalize(mean=[0.485, 0.456, 0.406],std=[0.229, 0.224, 0.225])\n",
    "    ])\n",
    "}\n",
    "\n",
    "# what happens when we perform data sugmentation\n",
    "# we are providing a variety of scenarios so that our model will learn to generalize in a good way\n",
    "# hence this step of data augmentation"
   ]
  },
  {
   "cell_type": "code",
   "execution_count": 7,
   "metadata": {},
   "outputs": [],
   "source": [
    "# Define data directory\n",
    "data_dir = 'datasets'\n",
    "\n",
    "# create data loaders\n",
    "# image_datasets = {x: datasets.ImageFolder(os.path.join(data_dir, x), data_transforms[x]) for x in ['train', 'val']}\n",
    "image_datasets = {x: datasets.ImageFolder(os.path.join(data_dir, x), data_transforms[x]) for x in ['train', 'val']}\n",
    "\n",
    "\n",
    "# what are data loaders : responsible to load the data"
   ]
  },
  {
   "cell_type": "code",
   "execution_count": 9,
   "metadata": {},
   "outputs": [
    {
     "name": "stdout",
     "output_type": "stream",
     "text": [
      "{'train': 854, 'val': 148}\n"
     ]
    }
   ],
   "source": [
    "import torch.utils\n",
    "import torch.utils.data\n",
    "\n",
    "\n",
    "dataloaders = {x: torch.utils.data.DataLoader(image_datasets[x], batch_size=4, shuffle=True, num_workers=4) for x in ['train', 'val']}\n",
    "# We are loading the train and val data into mini batch of batch_size = 4\n",
    "# batch_size = 4, bnatches of 4 images are taken\n",
    "# shuffle = True , while training data will keep on shuffling\n",
    "# num_workers = 4, we want to parallelize the process, we want 4 different processes can work\n",
    "\n",
    "# Below command is for checking the sizes of the train and val datasets\n",
    "dataset_sizes = {x: len(image_datasets[x]) for x in ['train', 'val']}\n",
    "print(dataset_sizes)"
   ]
  },
  {
   "cell_type": "code",
   "execution_count": 13,
   "metadata": {},
   "outputs": [
    {
     "data": {
      "text/plain": [
       "['daisy', 'dendelion']"
      ]
     },
     "execution_count": 13,
     "metadata": {},
     "output_type": "execute_result"
    }
   ],
   "source": [
    "class_names = image_datasets['train'].classes\n",
    "class_names\n",
    "# note than : class name is same as the folder name for respective class (key point to note)\n",
    "# this is the target variable , i.e. output class labels"
   ]
  },
  {
   "cell_type": "markdown",
   "metadata": {},
   "source": [
    "## Training the model (model : ResNet-18)\n",
    "* in this example, we will pick a pretrained model, which has already been trained on some dataset\n",
    "* we will freeze all the layers except the output/last classification layer, \n",
    "* then we will finetune our model to detect the image as either daily or dendelion"
   ]
  },
  {
   "cell_type": "code",
   "execution_count": 16,
   "metadata": {},
   "outputs": [
    {
     "name": "stderr",
     "output_type": "stream",
     "text": [
      "c:\\ProgramData\\anaconda3\\Lib\\site-packages\\torchvision\\models\\_utils.py:208: UserWarning: The parameter 'pretrained' is deprecated since 0.13 and may be removed in the future, please use 'weights' instead.\n",
      "  warnings.warn(\n",
      "c:\\ProgramData\\anaconda3\\Lib\\site-packages\\torchvision\\models\\_utils.py:223: UserWarning: Arguments other than a weight enum or `None` for 'weights' are deprecated since 0.13 and may be removed in the future. The current behavior is equivalent to passing `weights=ResNet18_Weights.IMAGENET1K_V1`. You can also use `weights=ResNet18_Weights.DEFAULT` to get the most up-to-date weights.\n",
      "  warnings.warn(msg)\n"
     ]
    }
   ],
   "source": [
    "# Load a pretrained model ResNet-18 model\n",
    "model = models.resnet18(pretrained = True)\n",
    "\n",
    "# freeze all layers except the final classification layer\n",
    "for name, param in model.named_parameters():\n",
    "    if 'fc' in name: # unfreeze the final classification layer' ,, fc -> fully connected layer\n",
    "        param.requires_grad = True\n",
    "        # whereever 'fc' is present, we are training those layers  \n",
    "    else:\n",
    "        param.requires_grad = False\n",
    "        # all these layers will be freezed\n",
    "    \n",
    "# Define loss function and optimizer\n",
    "criterion = nn.CrossEntropyLoss() # for a classification problem, most commonly used loss function\n",
    "optimizer = optim.SGD(model.parameters(), lr=0.001, momentum=0.9) # use all parameters, SGD -> Stochastic gradient descent\n",
    "\n",
    "# move the model to GPU, if available\n",
    "device = torch.device('cuda:0' if torch.cuda.is_available() else 'cpu')\n",
    "model = model.to(device)"
   ]
  },
  {
   "cell_type": "code",
   "execution_count": 17,
   "metadata": {},
   "outputs": [
    {
     "name": "stdout",
     "output_type": "stream",
     "text": [
      "train Loss: 0.5344 Acc: 0.9087\n",
      "val Loss: 0.1806 Acc: 0.9392\n",
      "train Loss: 0.1829 Acc: 0.9438\n",
      "val Loss: 0.1243 Acc: 0.9662\n",
      "train Loss: 0.1137 Acc: 0.9637\n",
      "val Loss: 0.0994 Acc: 0.9662\n",
      "train Loss: 0.0988 Acc: 0.9614\n",
      "val Loss: 0.1712 Acc: 0.9392\n",
      "train Loss: 0.1228 Acc: 0.9614\n",
      "val Loss: 0.1200 Acc: 0.9527\n",
      "train Loss: 0.1069 Acc: 0.9567\n",
      "val Loss: 0.0773 Acc: 0.9730\n",
      "train Loss: 0.0761 Acc: 0.9719\n",
      "val Loss: 0.0593 Acc: 0.9865\n",
      "train Loss: 0.0941 Acc: 0.9684\n",
      "val Loss: 0.0513 Acc: 0.9865\n",
      "train Loss: 0.0849 Acc: 0.9602\n",
      "val Loss: 0.0611 Acc: 0.9730\n",
      "train Loss: 0.1052 Acc: 0.9567\n",
      "val Loss: 0.0444 Acc: 0.9797\n",
      "Training complete!\n"
     ]
    }
   ],
   "source": [
    "# Training loop\n",
    "num_epochs = 10 # can increase if data set is huge\n",
    "for epoch in range(num_epochs):\n",
    "    for phase in ['train', 'val']:\n",
    "        if phase == 'train':\n",
    "            model.train()\n",
    "        else:\n",
    "            model.eval()\n",
    "\n",
    "        running_loss = 0.0 # these two variables are used to store loss and correct predn inside every epoch\n",
    "        running_corrects = 0\n",
    "\n",
    "        for inputs, labels in dataloaders[phase]:\n",
    "            inputs = inputs.to(device) # loading inout data on 'device' (gpu or cpu)\n",
    "            labels = labels.to(device) # loading class labels\n",
    "\n",
    "            optimizer.zero_grad() # clear the gradient from prev iteration\n",
    "\n",
    "            with torch.set_grad_enabled(phase == 'train'):\n",
    "                outputs = model(inputs) # to make predictions and store in 'output'\n",
    "                _, preds = torch.max(outputs, 1) # for showing the predictions\n",
    "                loss = criterion(outputs, labels) # calculating the loss between predn and actual labels, predicted label = output, and acutal label = labels\n",
    "\n",
    "                if phase == 'train':\n",
    "                    # in CNN there are forward pass and backward pass (back propagation)\n",
    "                    # firstly, in forward pass, model is trained and labels are predicted\n",
    "                    # after that, in back propagation, we calculate the gradients and update the weights\n",
    "                    # again in forward pass, we again train the model with updated weights \n",
    "                    loss.backward() # we are calcualting the grdient (backward pass)\n",
    "                    optimizer.step() # we are updating the weights on the basis of calculated gradient in prev. step\n",
    "\n",
    "            running_loss += loss.item() * inputs.size(0) # both these commands are storing the losses and correct predictions\n",
    "            running_corrects += torch.sum(preds == labels.data)\n",
    "\n",
    "        epoch_loss = running_loss / dataset_sizes[phase] # For viewing epoch wise loss and accuracy\n",
    "        epoch_acc = running_corrects.double() / dataset_sizes[phase]\n",
    "\n",
    "        print(f'{phase} Loss: {epoch_loss:.4f} Acc: {epoch_acc:.4f}')\n",
    "\n",
    "print(\"Training complete!\")"
   ]
  },
  {
   "cell_type": "code",
   "execution_count": 18,
   "metadata": {},
   "outputs": [],
   "source": [
    "# Save the model in CWD\n",
    "torch.save(model.state_dict(), 'flower_classification_model.pth')"
   ]
  },
  {
   "cell_type": "markdown",
   "metadata": {},
   "source": [
    "# Classification on unseen image\n",
    "To use the saved model to classify unseen images, you need to load the saved model and then apply it to the new images for inference"
   ]
  },
  {
   "cell_type": "code",
   "execution_count": 19,
   "metadata": {},
   "outputs": [
    {
     "name": "stderr",
     "output_type": "stream",
     "text": [
      "c:\\ProgramData\\anaconda3\\Lib\\site-packages\\torchvision\\models\\_utils.py:208: UserWarning: The parameter 'pretrained' is deprecated since 0.13 and may be removed in the future, please use 'weights' instead.\n",
      "  warnings.warn(\n",
      "c:\\ProgramData\\anaconda3\\Lib\\site-packages\\torchvision\\models\\_utils.py:223: UserWarning: Arguments other than a weight enum or `None` for 'weights' are deprecated since 0.13 and may be removed in the future. The current behavior is equivalent to passing `weights=ResNet18_Weights.IMAGENET1K_V1`. You can also use `weights=ResNet18_Weights.DEFAULT` to get the most up-to-date weights.\n",
      "  warnings.warn(msg)\n"
     ]
    }
   ],
   "source": [
    "import torch\n",
    "from torchvision import models, transforms\n",
    "from PIL import Image\n",
    "\n",
    "# Note that we have to apply all the preprocessing on the test images as well that we applied on training images prior to model training\n",
    "\n",
    "# Load the saved model\n",
    "model = models.resnet18(pretrained=True)\n",
    "model.fc = nn.Linear(model.fc.in_features, 1000) # resnet18 model is pre trained on data with 1000 class labels, i.e. output will be 1000 calss labels\n",
    "model.load_state_dict(torch.load('flower_classification_model.pth'))\n",
    "model.eval()\n",
    "\n",
    "# create a new model with correct final layer\n",
    "new_model = models.resnet18(pretrained=True)\n",
    "new_model.fc = nn.Linear(new_model.fc.in_features, 2) # for our case, we have only two class labels, this command is to match the desired output units\n",
    "\n",
    "# copy the weights and biases from the loaded model to the new model\n",
    "new_model.fc.weight.data = model.fc.weight.data[:2] # copy only first 2 output units, because we have two output labels, binary class problem\n",
    "new_model.fc.bias.data = model.fc.bias.data[:2]\n"
   ]
  },
  {
   "cell_type": "markdown",
   "metadata": {},
   "source": [
    "Prepare your new image for classification. You should use the same data transformations you used during training. Here's an example of how to prepare an image for inference:"
   ]
  },
  {
   "cell_type": "code",
   "execution_count": 25,
   "metadata": {},
   "outputs": [],
   "source": [
    "# Load and preprocess the unseen image\n",
    "image_path = 'test_daisy.jpg'  # Replace with the path to your image\n",
    "image = Image.open(image_path)\n",
    "\n",
    "# Applying all preprocessing steps onthe test image\n",
    "preprocess = transforms.Compose([\n",
    "    transforms.Resize(256),\n",
    "    transforms.CenterCrop(224),\n",
    "    transforms.ToTensor(),\n",
    "    transforms.Normalize([0.485, 0.456, 0.406], [0.229, 0.224, 0.225])\n",
    "])\n",
    "input_tensor = preprocess(image)\n",
    "input_batch = input_tensor.unsqueeze(0)  # Add a batch dimension"
   ]
  },
  {
   "cell_type": "markdown",
   "metadata": {},
   "source": [
    "Perform inference using the model:"
   ]
  },
  {
   "cell_type": "code",
   "execution_count": 26,
   "metadata": {},
   "outputs": [
    {
     "name": "stdout",
     "output_type": "stream",
     "text": [
      "The predicted class is: daisy\n"
     ]
    }
   ],
   "source": [
    "# Perform inference\n",
    "with torch.no_grad():\n",
    "    output = model(input_batch)\n",
    "\n",
    "# Get the predicted class\n",
    "_, predicted_class = output.max(1)\n",
    "\n",
    "# Map the predicted class to the class name\n",
    "class_names = ['daisy', 'dandelion']  # Make sure these class names match your training data\n",
    "predicted_class_name = class_names[predicted_class.item()]\n",
    "\n",
    "print(f'The predicted class is: {predicted_class_name}')"
   ]
  },
  {
   "cell_type": "code",
   "execution_count": 39,
   "metadata": {},
   "outputs": [
    {
     "data": {
      "image/png": "[encoded data removed]",
      "text/plain": [
       "<Figure size 640x480 with 1 Axes>"
      ]
     },
     "metadata": {},
     "output_type": "display_data"
    }
   ],
   "source": [
    "import numpy as np\n",
    "import matplotlib.pyplot as plt\n",
    "from PIL import Image\n",
    "\n",
    "# Display the image with the predicted class name\n",
    "image = np.array(image)\n",
    "plt.imshow(image)\n",
    "plt.axis('off')\n",
    "plt.text(2, 2, f'Predicted: {predicted_class_name}', fontsize=12, color='white', backgroundcolor='red')\n",
    "plt.show()"
   ]
  },
  {
   "cell_type": "code",
   "execution_count": null,
   "metadata": {},
   "outputs": [],
   "source": []
  }
 ],
 "metadata": {
  "kernelspec": {
   "display_name": "base",
   "language": "python",
   "name": "python3"
  },
  "language_info": {
   "codemirror_mode": {
    "name": "ipython",
    "version": 3
   },
   "file_extension": ".py",
   "mimetype": "text/x-python",
   "name": "python",
   "nbconvert_exporter": "python",
   "pygments_lexer": "ipython3",
   "version": "3.11.7"
  }
 },
 "nbformat": 4,
 "nbformat_minor": 2
}
