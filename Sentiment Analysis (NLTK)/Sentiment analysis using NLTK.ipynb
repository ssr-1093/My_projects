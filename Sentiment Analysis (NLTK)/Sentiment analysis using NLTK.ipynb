{
 "cells": [
  {
   "cell_type": "markdown",
   "id": "c9b5f1a3-77f4-45b4-8187-83d646fa0709",
   "metadata": {},
   "source": [
    "## Sentiment analysis usng NLTK\n",
    "* Date - 16, Apr 2024text)"
   ]
  },
  {
   "cell_type": "code",
   "execution_count": 14,
   "id": "316e196c-1c4d-4e8b-af92-2f4d9e831cb7",
   "metadata": {},
   "outputs": [],
   "source": [
    "# remove punctuations\n",
    "import string\n",
    "\n",
    "from collections import Counter\n",
    "# returns count of each item in iterable\n",
    "\n",
    "import nltk\n",
    "from nltk.corpus import stopwords\n",
    "import matplotlib.pyplot as plt"
   ]
  },
  {
   "cell_type": "code",
   "execution_count": 3,
   "id": "b65a2c38-30ff-4e40-b86c-58f002a6e856",
   "metadata": {},
   "outputs": [],
   "source": [
    "text = open('read.txt', encoding='utf-8').read()\n",
    "\n",
    "# Convert to lower\n",
    "lower_case = text.lower()\n",
    "\n",
    "# translation\n",
    "cleaned_text = lower_case.translate(str.maketrans('','',string.punctuation))"
   ]
  },
  {
   "cell_type": "code",
   "execution_count": 4,
   "id": "18743345-b571-431d-8c62-8659e9531834",
   "metadata": {},
   "outputs": [],
   "source": [
    "# Tokenization - i.e. breaking the snetence into words\n",
    "tokenized_words = nltk.word_tokenize(text=cleaned_text, language='english')"
   ]
  },
  {
   "cell_type": "code",
   "execution_count": 7,
   "id": "8558a51a-f2a0-4f25-80aa-c90ab3e264c4",
   "metadata": {},
   "outputs": [],
   "source": [
    "# .split() takes a lot of time when the text is very big. Hence we use word_tokenize as a standard"
   ]
  },
  {
   "cell_type": "code",
   "execution_count": 13,
   "id": "27430855-c5bf-4858-b367-b7ec3c38e9bc",
   "metadata": {},
   "outputs": [],
   "source": [
    "final_words = []\n",
    "\n",
    "# use a for loop\n",
    "for word in tokenized_words:\n",
    "    if word not in stopwords.words('english'):\n",
    "        final_words.append(word)"
   ]
  },
  {
   "cell_type": "markdown",
   "id": "33c0d982-dfb8-4a00-a205-d73790c8b45b",
   "metadata": {},
   "source": [
    "### Sentiment analysis using NLTK"
   ]
  },
  {
   "cell_type": "code",
   "execution_count": 18,
   "id": "aa131b86-7458-425d-a801-a4f4339cc615",
   "metadata": {},
   "outputs": [],
   "source": [
    "from nltk.sentiment.vader import SentimentIntensityAnalyzer"
   ]
  },
  {
   "cell_type": "code",
   "execution_count": 26,
   "id": "9d691740-7235-420c-b457-30d2ab794dd1",
   "metadata": {},
   "outputs": [],
   "source": [
    "def sentiment_analyze(sentiment_text):\n",
    "    score = SentimentIntensityAnalyzer().polarity_scores(sentiment_text)\n",
    "    # SentimentIntensityAnalyzer uses the text, not the tokenized text\n",
    "    neg = score['neg']\n",
    "    pos = score['pos']\n",
    "    print(f\"Score object has : {score}\")\n",
    "    if neg>pos:\n",
    "        print(\"Negative sentiment\")\n",
    "    elif neg<pos:\n",
    "        print(\"Positive sentiment\")\n",
    "    else:\n",
    "        print(\"Neutral sentiment\")"
   ]
  },
  {
   "cell_type": "code",
   "execution_count": 27,
   "id": "620d5bcb-e7f1-47ed-81f1-3ddfa9fc3fbc",
   "metadata": {},
   "outputs": [
    {
     "name": "stdout",
     "output_type": "stream",
     "text": [
      "Score object has : {'neg': 0.091, 'neu': 0.746, 'pos': 0.162, 'compound': 0.9996}\n",
      "Positive sentiment\n"
     ]
    }
   ],
   "source": [
    "sentiment_analyze(cleaned_text)"
   ]
  },
  {
   "cell_type": "code",
   "execution_count": null,
   "id": "38fdf750-81d3-4b13-9e2b-c2cbb6ecd96c",
   "metadata": {},
   "outputs": [],
   "source": []
  },
  {
   "cell_type": "code",
   "execution_count": null,
   "id": "8361007b-bb5f-4a33-ba9d-6828f5478035",
   "metadata": {},
   "outputs": [],
   "source": []
  },
  {
   "cell_type": "code",
   "execution_count": 15,
   "id": "feae8d4f-283e-47c0-a817-e2bcb5f845e5",
   "metadata": {},
   "outputs": [],
   "source": [
    "# emotion_list = []\n",
    "# with open('emotions.txt','r') as file:\n",
    "#     for line in file:\n",
    "#         clear_line = line.replace('\\n','').replace(',','').replace(\"'\",'').strip()\n",
    "#         word, emotion = clear_line.split(':')\n",
    "        \n",
    "#         if word in final_words:\n",
    "#             emotion_list.append(emotion)"
   ]
  },
  {
   "cell_type": "code",
   "execution_count": 16,
   "id": "d95f3ece-bb67-4544-83b8-ded63a899df1",
   "metadata": {},
   "outputs": [],
   "source": [
    "# w = Counter(emotion_list)"
   ]
  },
  {
   "cell_type": "code",
   "execution_count": 17,
   "id": "85a68c4b-9033-41ff-83ec-98a776cb2210",
   "metadata": {},
   "outputs": [
    {
     "data": {
      "image/png": "[encoded data removed]",
      "text/plain": [
       "<Figure size 640x480 with 1 Axes>"
      ]
     },
     "metadata": {},
     "output_type": "display_data"
    }
   ],
   "source": [
    "# # another way - to auto format the labels and axes\n",
    "# fig, ax1 = plt.subplots()\n",
    "# ax1.bar(w.keys(), w.values())\n",
    "# fig.autofmt_xdate()\n",
    "# plt.savefig('auto_format_figure_using_NLTK.png')\n",
    "# # fig.show()"
   ]
  },
  {
   "cell_type": "code",
   "execution_count": null,
   "id": "26e02eb7-80f7-4326-aede-a1fce83625cc",
   "metadata": {},
   "outputs": [],
   "source": []
  },
  {
   "cell_type": "code",
   "execution_count": null,
   "id": "2d4d51e4-776c-426c-a251-b9d9ad57879b",
   "metadata": {},
   "outputs": [],
   "source": []
  }
 ],
 "metadata": {
  "kernelspec": {
   "display_name": "Python 3 (ipykernel)",
   "language": "python",
   "name": "python3"
  },
  "language_info": {
   "codemirror_mode": {
    "name": "ipython",
    "version": 3
   },
   "file_extension": ".py",
   "mimetype": "text/x-python",
   "name": "python",
   "nbconvert_exporter": "python",
   "pygments_lexer": "ipython3",
   "version": "3.11.7"
  }
 },
 "nbformat": 4,
 "nbformat_minor": 5
}
