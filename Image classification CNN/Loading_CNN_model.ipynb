{
 "cells": [
  {
   "cell_type": "code",
   "execution_count": 1,
   "id": "be84f5d2-7da5-471f-957a-58de05b394b2",
   "metadata": {},
   "outputs": [],
   "source": [
    "from tensorflow.keras.models import load_model"
   ]
  },
  {
   "cell_type": "code",
   "execution_count": 2,
   "id": "232e1792-e873-4071-98e6-50ccf5557e20",
   "metadata": {},
   "outputs": [
    {
     "name": "stderr",
     "output_type": "stream",
     "text": [
      "WARNING:absl:Compiled the loaded model, but the compiled metrics have yet to be built. `model.compile_metrics` will be empty until you train or evaluate the model.\n"
     ]
    }
   ],
   "source": [
    "model_1 = load_model('image_classification_CAT_DOG.hdf5')"
   ]
  },
  {
   "cell_type": "code",
   "execution_count": 3,
   "id": "60fd7de5-295b-4da2-98eb-174a003c99cb",
   "metadata": {},
   "outputs": [
    {
     "data": {
      "text/plain": [
       "[<KerasVariable shape=(3, 3, 3, 32), dtype=float32, path=sequential_1/conv2d_2/kernel>,\n",
       " <KerasVariable shape=(32,), dtype=float32, path=sequential_1/conv2d_2/bias>,\n",
       " <KerasVariable shape=(3, 3, 32, 32), dtype=float32, path=sequential_1/conv2d_3/kernel>,\n",
       " <KerasVariable shape=(32,), dtype=float32, path=sequential_1/conv2d_3/bias>,\n",
       " <KerasVariable shape=(16928, 64), dtype=float32, path=sequential_1/dense_2/kernel>,\n",
       " <KerasVariable shape=(64,), dtype=float32, path=sequential_1/dense_2/bias>,\n",
       " <KerasVariable shape=(64, 1), dtype=float32, path=sequential_1/dense_3/kernel>,\n",
       " <KerasVariable shape=(1,), dtype=float32, path=sequential_1/dense_3/bias>]"
      ]
     },
     "execution_count": 3,
     "metadata": {},
     "output_type": "execute_result"
    }
   ],
   "source": [
    "model_1.weights"
   ]
  },
  {
   "cell_type": "code",
   "execution_count": null,
   "id": "2909c84c-711f-4001-a3ec-884f506974f6",
   "metadata": {},
   "outputs": [],
   "source": []
  }
 ],
 "metadata": {
  "kernelspec": {
   "display_name": "Python 3 (ipykernel)",
   "language": "python",
   "name": "python3"
  },
  "language_info": {
   "codemirror_mode": {
    "name": "ipython",
    "version": 3
   },
   "file_extension": ".py",
   "mimetype": "text/x-python",
   "name": "python",
   "nbconvert_exporter": "python",
   "pygments_lexer": "ipython3",
   "version": "3.11.7"
  }
 },
 "nbformat": 4,
 "nbformat_minor": 5
}
